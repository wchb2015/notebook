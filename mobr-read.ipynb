{
 "cells": [
  {
   "cell_type": "code",
   "execution_count": 1,
   "id": "eba48539",
   "metadata": {},
   "outputs": [],
   "source": [
    "import numpy as np\n",
    "import pandas as pd\n",
    "import matplotlib.pyplot as plt\n",
    "from pandas import Series,DataFrame\n",
    "import seaborn as sns\n",
    "import warnings\n"
   ]
  },
  {
   "cell_type": "code",
   "execution_count": 28,
   "id": "a538d9c3",
   "metadata": {},
   "outputs": [],
   "source": [
    "campaign_event_suggestions = pd.read_csv(\"/Users/chongbei/Downloads/dbc-data/campaign_event_suggestions.csv\")\n",
    "keyword_impressions = pd.read_csv(\"/Users/chongbei/Downloads/dbc-data/keyword_impressions.csv\")\n",
    "trailing_budget = pd.read_csv(\"/Users/chongbei/Downloads/dbc-data/trailing_budget.csv\")"
   ]
  },
  {
   "cell_type": "code",
   "execution_count": 29,
   "id": "68bd69d6",
   "metadata": {},
   "outputs": [
    {
     "data": {
      "text/plain": [
       "(409662, 3)"
      ]
     },
     "execution_count": 29,
     "metadata": {},
     "output_type": "execute_result"
    }
   ],
   "source": [
    "campaign_event_suggestions.shape"
   ]
  },
  {
   "cell_type": "code",
   "execution_count": 38,
   "id": "577b9b3e",
   "metadata": {},
   "outputs": [
    {
     "name": "stdout",
     "output_type": "stream",
     "text": [
      "Unexpected exception formatting exception. Falling back to standard exception\n"
     ]
    },
    {
     "name": "stderr",
     "output_type": "stream",
     "text": [
      "Traceback (most recent call last):\n",
      "  File \"/Users/chongbei/anaconda3/lib/python3.11/site-packages/IPython/core/formatters.py\", line 223, in catch_format_error\n",
      "    r = method(self, *args, **kwargs)\n",
      "        ^^^^^^^^^^^^^^^^^^^^^^^^^^^^^\n",
      "  File \"/Users/chongbei/anaconda3/lib/python3.11/site-packages/IPython/core/formatters.py\", line 344, in __call__\n",
      "    return method()\n",
      "           ^^^^^^^^\n",
      "  File \"/Users/chongbei/anaconda3/lib/python3.11/site-packages/pandas/core/frame.py\", line 1136, in _repr_html_\n",
      "  File \"/Users/chongbei/anaconda3/lib/python3.11/site-packages/pandas/io/formats/format.py\", line 1108, in to_html\n",
      "    the leading space to pad between columns.\n",
      "             ^^^^^^^^^^^^^^^^^^^^^^^^^^\n",
      "  File \"/Users/chongbei/anaconda3/lib/python3.11/site-packages/pandas/io/formats/html.py\", line 88, in to_string\n",
      "    lines = self.render()\n",
      "            ^^^^^^^^^^^^^\n",
      "  File \"/Users/chongbei/anaconda3/lib/python3.11/site-packages/pandas/io/formats/html.py\", line 644, in render\n",
      "    super().render()\n",
      "  File \"/Users/chongbei/anaconda3/lib/python3.11/site-packages/pandas/io/formats/html.py\", line 94, in render\n",
      "    self._write_table()\n",
      "  File \"/Users/chongbei/anaconda3/lib/python3.11/site-packages/pandas/io/formats/html.py\", line 267, in _write_table\n",
      "    self._write_header(indent + self.indent_delta)\n",
      "  File \"/Users/chongbei/anaconda3/lib/python3.11/site-packages/pandas/io/formats/html.py\", line 403, in _write_header\n",
      "    self._write_col_header(indent + self.indent_delta)\n",
      "  File \"/Users/chongbei/anaconda3/lib/python3.11/site-packages/pandas/io/formats/html.py\", line 383, in _write_col_header\n",
      "    row.extend(self._get_columns_formatted_values())\n",
      "               ^^^^^^^^^^^^^^^^^^^^^^^^^^^^^^^^^^^^\n",
      "  File \"/Users/chongbei/anaconda3/lib/python3.11/site-packages/pandas/io/formats/html.py\", line 611, in _get_columns_formatted_values\n",
      "    return self.columns._format_flat(include_name=False)\n",
      "           ^^^^^^^^^^^^^^^^^^^^^^^^^\n",
      "AttributeError: 'Index' object has no attribute '_format_flat'\n",
      "\n",
      "During handling of the above exception, another exception occurred:\n",
      "\n",
      "Traceback (most recent call last):\n",
      "  File \"/Users/chongbei/anaconda3/lib/python3.11/site-packages/IPython/core/interactiveshell.py\", line 2120, in showtraceback\n",
      "    stb = self.InteractiveTB.structured_traceback(\n",
      "          ^^^^^^^^^^^^^^^^^^^^^^^^^^^^^^^^^^^^^^^^\n",
      "  File \"/Users/chongbei/anaconda3/lib/python3.11/site-packages/IPython/core/ultratb.py\", line 1435, in structured_traceback\n",
      "    return FormattedTB.structured_traceback(\n",
      "           ^^^^^^^^^^^^^^^^^^^^^^^^^^^^^^^^^\n",
      "  File \"/Users/chongbei/anaconda3/lib/python3.11/site-packages/IPython/core/ultratb.py\", line 1326, in structured_traceback\n",
      "    return VerboseTB.structured_traceback(\n",
      "           ^^^^^^^^^^^^^^^^^^^^^^^^^^^^^^^\n",
      "  File \"/Users/chongbei/anaconda3/lib/python3.11/site-packages/IPython/core/ultratb.py\", line 1173, in structured_traceback\n",
      "    formatted_exception = self.format_exception_as_a_whole(etype, evalue, etb, number_of_lines_of_context,\n",
      "                          ^^^^^^^^^^^^^^^^^^^^^^^^^^^^^^^^^^^^^^^^^^^^^^^^^^^^^^^^^^^^^^^^^^^^^^^^^^^^^^^^\n",
      "  File \"/Users/chongbei/anaconda3/lib/python3.11/site-packages/IPython/core/ultratb.py\", line 1088, in format_exception_as_a_whole\n",
      "    frames.append(self.format_record(record))\n",
      "                  ^^^^^^^^^^^^^^^^^^^^^^^^^^\n",
      "  File \"/Users/chongbei/anaconda3/lib/python3.11/site-packages/IPython/core/ultratb.py\", line 970, in format_record\n",
      "    frame_info.lines, Colors, self.has_colors, lvals\n",
      "    ^^^^^^^^^^^^^^^^\n",
      "  File \"/Users/chongbei/anaconda3/lib/python3.11/site-packages/IPython/core/ultratb.py\", line 792, in lines\n",
      "    return self._sd.lines\n",
      "           ^^^^^^^^^^^^^^\n",
      "  File \"/Users/chongbei/anaconda3/lib/python3.11/site-packages/stack_data/utils.py\", line 145, in cached_property_wrapper\n",
      "    value = obj.__dict__[self.func.__name__] = self.func(obj)\n",
      "                                               ^^^^^^^^^^^^^^\n",
      "  File \"/Users/chongbei/anaconda3/lib/python3.11/site-packages/stack_data/core.py\", line 698, in lines\n",
      "    pieces = self.included_pieces\n",
      "             ^^^^^^^^^^^^^^^^^^^^\n",
      "  File \"/Users/chongbei/anaconda3/lib/python3.11/site-packages/stack_data/utils.py\", line 145, in cached_property_wrapper\n",
      "    value = obj.__dict__[self.func.__name__] = self.func(obj)\n",
      "                                               ^^^^^^^^^^^^^^\n",
      "  File \"/Users/chongbei/anaconda3/lib/python3.11/site-packages/stack_data/core.py\", line 649, in included_pieces\n",
      "    pos = scope_pieces.index(self.executing_piece)\n",
      "                             ^^^^^^^^^^^^^^^^^^^^\n",
      "  File \"/Users/chongbei/anaconda3/lib/python3.11/site-packages/stack_data/utils.py\", line 145, in cached_property_wrapper\n",
      "    value = obj.__dict__[self.func.__name__] = self.func(obj)\n",
      "                                               ^^^^^^^^^^^^^^\n",
      "  File \"/Users/chongbei/anaconda3/lib/python3.11/site-packages/stack_data/core.py\", line 628, in executing_piece\n",
      "    return only(\n",
      "           ^^^^^\n",
      "  File \"/Users/chongbei/anaconda3/lib/python3.11/site-packages/executing/executing.py\", line 164, in only\n",
      "    raise NotOneValueFound('Expected one value, found 0')\n",
      "executing.executing.NotOneValueFound: Expected one value, found 0\n"
     ]
    },
    {
     "data": {
      "text/plain": [
       "   1_200021793618571  61bae25c-853e-d472-65a3-44045e75cb51  1.029821502062249\n",
       "0  1_200021794268911  0918b5b0-b205-f176-3ae2-a799d020913e           1.120321\n",
       "1  1_200021794827481  012bb6d9-2b19-d953-784e-692c070d914d           1.829003\n",
       "2  1_200021786277831  889b4187-1df7-e058-7a4b-5bb820a9d6ca           0.920173"
      ]
     },
     "execution_count": 38,
     "metadata": {},
     "output_type": "execute_result"
    }
   ],
   "source": [
    "campaign_event_suggestions.head(3)"
   ]
  },
  {
   "cell_type": "code",
   "execution_count": 30,
   "id": "d48d0831",
   "metadata": {},
   "outputs": [
    {
     "data": {
      "text/plain": [
       "(458222, 6)"
      ]
     },
     "execution_count": 30,
     "metadata": {},
     "output_type": "execute_result"
    }
   ],
   "source": [
    "keyword_impressions.shape"
   ]
  },
  {
   "cell_type": "code",
   "execution_count": 40,
   "id": "cb2560be",
   "metadata": {},
   "outputs": [
    {
     "name": "stdout",
     "output_type": "stream",
     "text": [
      "Unexpected exception formatting exception. Falling back to standard exception\n"
     ]
    },
    {
     "name": "stderr",
     "output_type": "stream",
     "text": [
      "Traceback (most recent call last):\n",
      "  File \"/Users/chongbei/anaconda3/lib/python3.11/site-packages/IPython/core/formatters.py\", line 223, in catch_format_error\n",
      "    r = method(self, *args, **kwargs)\n",
      "        ^^^^^^^^^^^^^^^^^^^^^^^^^^^^^\n",
      "  File \"/Users/chongbei/anaconda3/lib/python3.11/site-packages/IPython/core/formatters.py\", line 344, in __call__\n",
      "    return method()\n",
      "           ^^^^^^^^\n",
      "  File \"/Users/chongbei/anaconda3/lib/python3.11/site-packages/pandas/core/frame.py\", line 1136, in _repr_html_\n",
      "  File \"/Users/chongbei/anaconda3/lib/python3.11/site-packages/pandas/io/formats/format.py\", line 1108, in to_html\n",
      "    the leading space to pad between columns.\n",
      "             ^^^^^^^^^^^^^^^^^^^^^^^^^^\n",
      "  File \"/Users/chongbei/anaconda3/lib/python3.11/site-packages/pandas/io/formats/html.py\", line 88, in to_string\n",
      "    lines = self.render()\n",
      "            ^^^^^^^^^^^^^\n",
      "  File \"/Users/chongbei/anaconda3/lib/python3.11/site-packages/pandas/io/formats/html.py\", line 644, in render\n",
      "    super().render()\n",
      "  File \"/Users/chongbei/anaconda3/lib/python3.11/site-packages/pandas/io/formats/html.py\", line 94, in render\n",
      "    self._write_table()\n",
      "  File \"/Users/chongbei/anaconda3/lib/python3.11/site-packages/pandas/io/formats/html.py\", line 267, in _write_table\n",
      "    self._write_header(indent + self.indent_delta)\n",
      "  File \"/Users/chongbei/anaconda3/lib/python3.11/site-packages/pandas/io/formats/html.py\", line 403, in _write_header\n",
      "    self._write_col_header(indent + self.indent_delta)\n",
      "  File \"/Users/chongbei/anaconda3/lib/python3.11/site-packages/pandas/io/formats/html.py\", line 383, in _write_col_header\n",
      "    row.extend(self._get_columns_formatted_values())\n",
      "               ^^^^^^^^^^^^^^^^^^^^^^^^^^^^^^^^^^^^\n",
      "  File \"/Users/chongbei/anaconda3/lib/python3.11/site-packages/pandas/io/formats/html.py\", line 611, in _get_columns_formatted_values\n",
      "    return self.columns._format_flat(include_name=False)\n",
      "           ^^^^^^^^^^^^^^^^^^^^^^^^^\n",
      "AttributeError: 'Index' object has no attribute '_format_flat'\n",
      "\n",
      "During handling of the above exception, another exception occurred:\n",
      "\n",
      "Traceback (most recent call last):\n",
      "  File \"/Users/chongbei/anaconda3/lib/python3.11/site-packages/IPython/core/interactiveshell.py\", line 2120, in showtraceback\n",
      "    stb = self.InteractiveTB.structured_traceback(\n",
      "          ^^^^^^^^^^^^^^^^^^^^^^^^^^^^^^^^^^^^^^^^\n",
      "  File \"/Users/chongbei/anaconda3/lib/python3.11/site-packages/IPython/core/ultratb.py\", line 1435, in structured_traceback\n",
      "    return FormattedTB.structured_traceback(\n",
      "           ^^^^^^^^^^^^^^^^^^^^^^^^^^^^^^^^^\n",
      "  File \"/Users/chongbei/anaconda3/lib/python3.11/site-packages/IPython/core/ultratb.py\", line 1326, in structured_traceback\n",
      "    return VerboseTB.structured_traceback(\n",
      "           ^^^^^^^^^^^^^^^^^^^^^^^^^^^^^^^\n",
      "  File \"/Users/chongbei/anaconda3/lib/python3.11/site-packages/IPython/core/ultratb.py\", line 1173, in structured_traceback\n",
      "    formatted_exception = self.format_exception_as_a_whole(etype, evalue, etb, number_of_lines_of_context,\n",
      "                          ^^^^^^^^^^^^^^^^^^^^^^^^^^^^^^^^^^^^^^^^^^^^^^^^^^^^^^^^^^^^^^^^^^^^^^^^^^^^^^^^\n",
      "  File \"/Users/chongbei/anaconda3/lib/python3.11/site-packages/IPython/core/ultratb.py\", line 1088, in format_exception_as_a_whole\n",
      "    frames.append(self.format_record(record))\n",
      "                  ^^^^^^^^^^^^^^^^^^^^^^^^^^\n",
      "  File \"/Users/chongbei/anaconda3/lib/python3.11/site-packages/IPython/core/ultratb.py\", line 970, in format_record\n",
      "    frame_info.lines, Colors, self.has_colors, lvals\n",
      "    ^^^^^^^^^^^^^^^^\n",
      "  File \"/Users/chongbei/anaconda3/lib/python3.11/site-packages/IPython/core/ultratb.py\", line 792, in lines\n",
      "    return self._sd.lines\n",
      "           ^^^^^^^^^^^^^^\n",
      "  File \"/Users/chongbei/anaconda3/lib/python3.11/site-packages/stack_data/utils.py\", line 145, in cached_property_wrapper\n",
      "    value = obj.__dict__[self.func.__name__] = self.func(obj)\n",
      "                                               ^^^^^^^^^^^^^^\n",
      "  File \"/Users/chongbei/anaconda3/lib/python3.11/site-packages/stack_data/core.py\", line 698, in lines\n",
      "    pieces = self.included_pieces\n",
      "             ^^^^^^^^^^^^^^^^^^^^\n",
      "  File \"/Users/chongbei/anaconda3/lib/python3.11/site-packages/stack_data/utils.py\", line 145, in cached_property_wrapper\n",
      "    value = obj.__dict__[self.func.__name__] = self.func(obj)\n",
      "                                               ^^^^^^^^^^^^^^\n",
      "  File \"/Users/chongbei/anaconda3/lib/python3.11/site-packages/stack_data/core.py\", line 649, in included_pieces\n",
      "    pos = scope_pieces.index(self.executing_piece)\n",
      "                             ^^^^^^^^^^^^^^^^^^^^\n",
      "  File \"/Users/chongbei/anaconda3/lib/python3.11/site-packages/stack_data/utils.py\", line 145, in cached_property_wrapper\n",
      "    value = obj.__dict__[self.func.__name__] = self.func(obj)\n",
      "                                               ^^^^^^^^^^^^^^\n",
      "  File \"/Users/chongbei/anaconda3/lib/python3.11/site-packages/stack_data/core.py\", line 628, in executing_piece\n",
      "    return only(\n",
      "           ^^^^^\n",
      "  File \"/Users/chongbei/anaconda3/lib/python3.11/site-packages/executing/executing.py\", line 164, in only\n",
      "    raise NotOneValueFound('Expected one value, found 0')\n",
      "executing.executing.NotOneValueFound: Expected one value, found 0\n"
     ]
    },
    {
     "data": {
      "text/plain": [
       "     1_wetsuit drying rack  c23d32c8-e330-d31a-1da0-eb7e837fd5ee  \\\n",
       "0  1_dresses for the beach  49cd7e57-577c-ef7d-997c-18edbec40b8d   \n",
       "\n",
       "     wetsuit drying rack   33     80    20240211  \n",
       "0  dresses for the beach  300  279.0  20240211.0  "
      ]
     },
     "execution_count": 40,
     "metadata": {},
     "output_type": "execute_result"
    }
   ],
   "source": [
    "keyword_impressions.head(1)"
   ]
  },
  {
   "cell_type": "code",
   "execution_count": 31,
   "id": "45b6c274",
   "metadata": {},
   "outputs": [
    {
     "data": {
      "text/plain": [
       "(8109, 4)"
      ]
     },
     "execution_count": 31,
     "metadata": {},
     "output_type": "execute_result"
    }
   ],
   "source": [
    "trailing_budget.shape"
   ]
  },
  {
   "cell_type": "code",
   "execution_count": 41,
   "id": "c54a079b",
   "metadata": {},
   "outputs": [
    {
     "name": "stdout",
     "output_type": "stream",
     "text": [
      "Unexpected exception formatting exception. Falling back to standard exception\n"
     ]
    },
    {
     "name": "stderr",
     "output_type": "stream",
     "text": [
      "Traceback (most recent call last):\n",
      "  File \"/Users/chongbei/anaconda3/lib/python3.11/site-packages/IPython/core/formatters.py\", line 223, in catch_format_error\n",
      "    r = method(self, *args, **kwargs)\n",
      "        ^^^^^^^^^^^^^^^^^^^^^^^^^^^^^\n",
      "  File \"/Users/chongbei/anaconda3/lib/python3.11/site-packages/IPython/core/formatters.py\", line 344, in __call__\n",
      "    return method()\n",
      "           ^^^^^^^^\n",
      "  File \"/Users/chongbei/anaconda3/lib/python3.11/site-packages/pandas/core/frame.py\", line 1136, in _repr_html_\n",
      "  File \"/Users/chongbei/anaconda3/lib/python3.11/site-packages/pandas/io/formats/format.py\", line 1108, in to_html\n",
      "    the leading space to pad between columns.\n",
      "             ^^^^^^^^^^^^^^^^^^^^^^^^^^\n",
      "  File \"/Users/chongbei/anaconda3/lib/python3.11/site-packages/pandas/io/formats/html.py\", line 88, in to_string\n",
      "    lines = self.render()\n",
      "            ^^^^^^^^^^^^^\n",
      "  File \"/Users/chongbei/anaconda3/lib/python3.11/site-packages/pandas/io/formats/html.py\", line 644, in render\n",
      "    super().render()\n",
      "  File \"/Users/chongbei/anaconda3/lib/python3.11/site-packages/pandas/io/formats/html.py\", line 94, in render\n",
      "    self._write_table()\n",
      "  File \"/Users/chongbei/anaconda3/lib/python3.11/site-packages/pandas/io/formats/html.py\", line 267, in _write_table\n",
      "    self._write_header(indent + self.indent_delta)\n",
      "  File \"/Users/chongbei/anaconda3/lib/python3.11/site-packages/pandas/io/formats/html.py\", line 403, in _write_header\n",
      "    self._write_col_header(indent + self.indent_delta)\n",
      "  File \"/Users/chongbei/anaconda3/lib/python3.11/site-packages/pandas/io/formats/html.py\", line 383, in _write_col_header\n",
      "    row.extend(self._get_columns_formatted_values())\n",
      "               ^^^^^^^^^^^^^^^^^^^^^^^^^^^^^^^^^^^^\n",
      "  File \"/Users/chongbei/anaconda3/lib/python3.11/site-packages/pandas/io/formats/html.py\", line 611, in _get_columns_formatted_values\n",
      "    return self.columns._format_flat(include_name=False)\n",
      "           ^^^^^^^^^^^^^^^^^^^^^^^^^\n",
      "AttributeError: 'Index' object has no attribute '_format_flat'\n",
      "\n",
      "During handling of the above exception, another exception occurred:\n",
      "\n",
      "Traceback (most recent call last):\n",
      "  File \"/Users/chongbei/anaconda3/lib/python3.11/site-packages/IPython/core/interactiveshell.py\", line 2120, in showtraceback\n",
      "    stb = self.InteractiveTB.structured_traceback(\n",
      "          ^^^^^^^^^^^^^^^^^^^^^^^^^^^^^^^^^^^^^^^^\n",
      "  File \"/Users/chongbei/anaconda3/lib/python3.11/site-packages/IPython/core/ultratb.py\", line 1435, in structured_traceback\n",
      "    return FormattedTB.structured_traceback(\n",
      "           ^^^^^^^^^^^^^^^^^^^^^^^^^^^^^^^^^\n",
      "  File \"/Users/chongbei/anaconda3/lib/python3.11/site-packages/IPython/core/ultratb.py\", line 1326, in structured_traceback\n",
      "    return VerboseTB.structured_traceback(\n",
      "           ^^^^^^^^^^^^^^^^^^^^^^^^^^^^^^^\n",
      "  File \"/Users/chongbei/anaconda3/lib/python3.11/site-packages/IPython/core/ultratb.py\", line 1173, in structured_traceback\n",
      "    formatted_exception = self.format_exception_as_a_whole(etype, evalue, etb, number_of_lines_of_context,\n",
      "                          ^^^^^^^^^^^^^^^^^^^^^^^^^^^^^^^^^^^^^^^^^^^^^^^^^^^^^^^^^^^^^^^^^^^^^^^^^^^^^^^^\n",
      "  File \"/Users/chongbei/anaconda3/lib/python3.11/site-packages/IPython/core/ultratb.py\", line 1088, in format_exception_as_a_whole\n",
      "    frames.append(self.format_record(record))\n",
      "                  ^^^^^^^^^^^^^^^^^^^^^^^^^^\n",
      "  File \"/Users/chongbei/anaconda3/lib/python3.11/site-packages/IPython/core/ultratb.py\", line 970, in format_record\n",
      "    frame_info.lines, Colors, self.has_colors, lvals\n",
      "    ^^^^^^^^^^^^^^^^\n",
      "  File \"/Users/chongbei/anaconda3/lib/python3.11/site-packages/IPython/core/ultratb.py\", line 792, in lines\n",
      "    return self._sd.lines\n",
      "           ^^^^^^^^^^^^^^\n",
      "  File \"/Users/chongbei/anaconda3/lib/python3.11/site-packages/stack_data/utils.py\", line 145, in cached_property_wrapper\n",
      "    value = obj.__dict__[self.func.__name__] = self.func(obj)\n",
      "                                               ^^^^^^^^^^^^^^\n",
      "  File \"/Users/chongbei/anaconda3/lib/python3.11/site-packages/stack_data/core.py\", line 698, in lines\n",
      "    pieces = self.included_pieces\n",
      "             ^^^^^^^^^^^^^^^^^^^^\n",
      "  File \"/Users/chongbei/anaconda3/lib/python3.11/site-packages/stack_data/utils.py\", line 145, in cached_property_wrapper\n",
      "    value = obj.__dict__[self.func.__name__] = self.func(obj)\n",
      "                                               ^^^^^^^^^^^^^^\n",
      "  File \"/Users/chongbei/anaconda3/lib/python3.11/site-packages/stack_data/core.py\", line 649, in included_pieces\n",
      "    pos = scope_pieces.index(self.executing_piece)\n",
      "                             ^^^^^^^^^^^^^^^^^^^^\n",
      "  File \"/Users/chongbei/anaconda3/lib/python3.11/site-packages/stack_data/utils.py\", line 145, in cached_property_wrapper\n",
      "    value = obj.__dict__[self.func.__name__] = self.func(obj)\n",
      "                                               ^^^^^^^^^^^^^^\n",
      "  File \"/Users/chongbei/anaconda3/lib/python3.11/site-packages/stack_data/core.py\", line 628, in executing_piece\n",
      "    return only(\n",
      "           ^^^^^\n",
      "  File \"/Users/chongbei/anaconda3/lib/python3.11/site-packages/executing/executing.py\", line 164, in only\n",
      "    raise NotOneValueFound('Expected one value, found 0')\n",
      "executing.executing.NotOneValueFound: Expected one value, found 0\n"
     ]
    },
    {
     "data": {
      "text/plain": [
       "   1  200020149268571  1.4225  1_200020149268571\n",
       "0  1  200020190169751  5.5375  1_200020190169751\n",
       "1  1  200020198051961  0.5000  1_200020198051961\n",
       "2  1  200020261619851  5.5300  1_200020261619851"
      ]
     },
     "execution_count": 41,
     "metadata": {},
     "output_type": "execute_result"
    }
   ],
   "source": [
    "trailing_budget.head(3)"
   ]
  },
  {
   "cell_type": "code",
   "execution_count": 3,
   "id": "edbe1b2b",
   "metadata": {},
   "outputs": [],
   "source": [
    "#mobr = pd.read_parquet(\"/Users/chongbei/Downloads/0201.parquet\")\n",
    "decorated = pd.read_json(\n",
    "    \"/Users/chongbei/Downloads/mobr-data/sb-mobr-decorated-daily-prod.json\",\n",
    "    lines=True)\n",
    "uncompacted = pd.read_parquet(\n",
    "    \"/Users/chongbei/Downloads/mobr-data/sb-mobr-uncompacted-prod.parquet\")\n",
    "compacted = pd.read_csv(\n",
    "    \"/Users/chongbei/Downloads/mobr-data/sb-mobr-compacted-prod.csv\")"
   ]
  },
  {
   "cell_type": "code",
   "execution_count": 8,
   "id": "484238eb",
   "metadata": {},
   "outputs": [
    {
     "data": {
      "text/plain": [
       "program_type\n",
       "SB    1071657\n",
       "Name: count, dtype: int64"
      ]
     },
     "execution_count": 8,
     "metadata": {},
     "output_type": "execute_result"
    }
   ],
   "source": [
    "mobr['program_type'].value_counts()"
   ]
  },
  {
   "cell_type": "code",
   "execution_count": 4,
   "id": "2b69218b",
   "metadata": {},
   "outputs": [
    {
     "data": {
      "text/plain": [
       "(1071657, 17)"
      ]
     },
     "execution_count": 4,
     "metadata": {},
     "output_type": "execute_result"
    }
   ],
   "source": [
    "mobr.shape"
   ]
  },
  {
   "cell_type": "code",
   "execution_count": 5,
   "id": "e19ef8a4",
   "metadata": {},
   "outputs": [
    {
     "name": "stdout",
     "output_type": "stream",
     "text": [
      "<class 'pandas.core.frame.DataFrame'>\n",
      "RangeIndex: 1071657 entries, 0 to 1071656\n",
      "Data columns (total 17 columns):\n",
      " #   Column                                  Non-Null Count    Dtype  \n",
      "---  ------                                  --------------    -----  \n",
      " 0   advertiser_id                           1071657 non-null  int64  \n",
      " 1   campaign_id                             1071657 non-null  int64  \n",
      " 2   marketplace_id                          1071657 non-null  int64  \n",
      " 3   active_campaign_seconds                 1071657 non-null  int64  \n",
      " 4   recommended_budget                      1071657 non-null  float64\n",
      " 5   estimated_missed_clicks_range_min       1071657 non-null  int64  \n",
      " 6   estimated_missed_clicks_range_max       1071657 non-null  int64  \n",
      " 7   estimated_missed_sales_range_min        1071657 non-null  float64\n",
      " 8   estimated_missed_sales_range_max        1071657 non-null  float64\n",
      " 9   estimated_missed_impressions_range_min  1071657 non-null  int64  \n",
      " 10  estimated_missed_impressions_range_max  1071657 non-null  int64  \n",
      " 11  in_budget_seconds                       1071657 non-null  int64  \n",
      " 12  object_type                             1071657 non-null  object \n",
      " 13  program_type                            1071657 non-null  object \n",
      " 14  BATCH_ID                                1071657 non-null  object \n",
      " 15  DELTA_LOAD_BATCH_ID                     1071657 non-null  object \n",
      " 16  DELTA_UNLOAD_BATCH_ID                   1071657 non-null  object \n",
      "dtypes: float64(3), int64(9), object(5)\n",
      "memory usage: 139.0+ MB\n"
     ]
    }
   ],
   "source": [
    "mobr.info()"
   ]
  },
  {
   "cell_type": "code",
   "execution_count": 29,
   "id": "91710bff",
   "metadata": {},
   "outputs": [
    {
     "name": "stdout",
     "output_type": "stream",
     "text": [
      "<class 'pandas.core.frame.DataFrame'>\n",
      "RangeIndex: 21747 entries, 0 to 21746\n",
      "Data columns (total 15 columns):\n",
      " #   Column                                  Non-Null Count  Dtype  \n",
      "---  ------                                  --------------  -----  \n",
      " 0   advertiser_id                           21747 non-null  int64  \n",
      " 1   campaign_id                             21747 non-null  int64  \n",
      " 2   marketplace_id                          21747 non-null  int64  \n",
      " 3   active_campaign_seconds                 21747 non-null  float64\n",
      " 4   recommended_budget                      21747 non-null  float64\n",
      " 5   estimated_missed_clicks_range_min       21747 non-null  int64  \n",
      " 6   estimated_missed_clicks_range_max       21747 non-null  int64  \n",
      " 7   estimated_missed_sales_range_min        21747 non-null  float64\n",
      " 8   estimated_missed_sales_range_max        21747 non-null  float64\n",
      " 9   estimated_missed_impressions_range_min  21747 non-null  int64  \n",
      " 10  estimated_missed_impressions_range_max  21747 non-null  int64  \n",
      " 11  in_budget_seconds                       21747 non-null  float64\n",
      " 12  dim_date                                21747 non-null  object \n",
      " 13  object_type                             21747 non-null  object \n",
      " 14  program_type                            21747 non-null  object \n",
      "dtypes: float64(5), int64(7), object(3)\n",
      "memory usage: 2.5+ MB\n"
     ]
    }
   ],
   "source": [
    "decorated.info()"
   ]
  },
  {
   "cell_type": "code",
   "execution_count": 30,
   "id": "b4bae8ea",
   "metadata": {},
   "outputs": [
    {
     "name": "stdout",
     "output_type": "stream",
     "text": [
      "<class 'pandas.core.frame.DataFrame'>\n",
      "RangeIndex: 1159915 entries, 0 to 1159914\n",
      "Data columns (total 17 columns):\n",
      " #   Column                                  Non-Null Count    Dtype  \n",
      "---  ------                                  --------------    -----  \n",
      " 0   advertiser_id                           1159915 non-null  int64  \n",
      " 1   campaign_id                             1159915 non-null  int64  \n",
      " 2   marketplace_id                          1159915 non-null  int64  \n",
      " 3   active_campaign_seconds                 1159915 non-null  int64  \n",
      " 4   recommended_budget                      1159915 non-null  float64\n",
      " 5   estimated_missed_clicks_range_min       1159915 non-null  int64  \n",
      " 6   estimated_missed_clicks_range_max       1159915 non-null  int64  \n",
      " 7   estimated_missed_sales_range_min        1159915 non-null  float64\n",
      " 8   estimated_missed_sales_range_max        1159915 non-null  float64\n",
      " 9   estimated_missed_impressions_range_min  1159915 non-null  int64  \n",
      " 10  estimated_missed_impressions_range_max  1159915 non-null  int64  \n",
      " 11  in_budget_seconds                       1159915 non-null  int64  \n",
      " 12  object_type                             1159915 non-null  object \n",
      " 13  program_type                            1159915 non-null  object \n",
      " 14  BATCH_ID                                1159915 non-null  object \n",
      " 15  DELTA_LOAD_BATCH_ID                     1159915 non-null  object \n",
      " 16  DELTA_UNLOAD_BATCH_ID                   1159915 non-null  object \n",
      "dtypes: float64(3), int64(9), object(5)\n",
      "memory usage: 150.4+ MB\n"
     ]
    }
   ],
   "source": [
    "uncompacted.info()"
   ]
  },
  {
   "cell_type": "code",
   "execution_count": 31,
   "id": "ac2a0b13",
   "metadata": {},
   "outputs": [
    {
     "name": "stdout",
     "output_type": "stream",
     "text": [
      "<class 'pandas.core.frame.DataFrame'>\n",
      "RangeIndex: 15479 entries, 0 to 15478\n",
      "Data columns (total 15 columns):\n",
      " #   Column                                  Non-Null Count  Dtype  \n",
      "---  ------                                  --------------  -----  \n",
      " 0   advertiser_id                           15479 non-null  int64  \n",
      " 1   campaign_id                             15479 non-null  int64  \n",
      " 2   marketplace_id                          15479 non-null  int64  \n",
      " 3   active_campaign_seconds                 15479 non-null  int64  \n",
      " 4   recommended_budget                      15479 non-null  float64\n",
      " 5   estimated_missed_clicks_range_min       15479 non-null  int64  \n",
      " 6   estimated_missed_clicks_range_max       15479 non-null  int64  \n",
      " 7   estimated_missed_sales_range_min        15479 non-null  float64\n",
      " 8   estimated_missed_sales_range_max        15479 non-null  float64\n",
      " 9   estimated_missed_impressions_range_min  15479 non-null  int64  \n",
      " 10  estimated_missed_impressions_range_max  15479 non-null  int64  \n",
      " 11  in_budget_seconds                       15479 non-null  int64  \n",
      " 12  dim_date                                15479 non-null  object \n",
      " 13  object_type                             15479 non-null  object \n",
      " 14  program_type                            15479 non-null  object \n",
      "dtypes: float64(3), int64(9), object(3)\n",
      "memory usage: 1.8+ MB\n"
     ]
    }
   ],
   "source": [
    "compacted.info()"
   ]
  },
  {
   "cell_type": "code",
   "execution_count": 77,
   "id": "b71f475d",
   "metadata": {},
   "outputs": [
    {
     "data": {
      "text/plain": [
       "'[{\"campaign_id\":200026024251998,\"active_campaign_seconds\":86400.0,\"recommended_budget\":21.58,\"estimated_missed_clicks_range_min\":36,\"estimated_missed_clicks_range_max\":107,\"estimated_missed_sales_range_min\":0.0,\"estimated_missed_sales_range_max\":0.0,\"estimated_missed_impressions_range_min\":7791,\"estimated_missed_impressions_range_max\":23372,\"in_budget_seconds\":46960.2857142857,\"dim_date\":1701561600000}]'"
      ]
     },
     "execution_count": 77,
     "metadata": {},
     "output_type": "execute_result"
    }
   ],
   "source": [
    "mobr.rename(columns={\n",
    "    \"active_campaign_seconds_mean\": \"active_campaign_seconds\",\n",
    "    \"total_spend\": \"recommended_budget\",\n",
    "    \"mo_clicks_lower_bound\": \"estimated_missed_clicks_range_min\",\n",
    "    \"mo_clicks_upper_bound\": \"estimated_missed_clicks_range_max\",\n",
    "    \"mo_sales_lower_bound\": \"estimated_missed_sales_range_min\",\n",
    "    \"mo_sales_upper_bound\": \"estimated_missed_sales_range_max\",\n",
    "    \"mo_impressions_lower_bound\": \"estimated_missed_impressions_range_min\",\n",
    "    \"mo_impressions_upper_bound\": \"estimated_missed_impressions_range_max\",\n",
    "    \"in_budget_seconds_mean\": \"in_budget_seconds\",\n",
    "    \"metric_date\": \"dim_date\"\n",
    "},\n",
    "            inplace=True)\n",
    "\n",
    "mobr.loc[mobr['estimated_missed_clicks_range_min'] > 0][[\n",
    "    'campaign_id', 'active_campaign_seconds', 'recommended_budget',\n",
    "    'estimated_missed_clicks_range_min', 'estimated_missed_clicks_range_max',\n",
    "    'estimated_missed_sales_range_min', 'estimated_missed_sales_range_max',\n",
    "    'estimated_missed_impressions_range_min',\n",
    "    'estimated_missed_impressions_range_max', 'in_budget_seconds', 'dim_date'\n",
    "]].head(20)\n",
    "\n",
    "mobr.loc[ (mobr['estimated_missed_clicks_range_min'] > 0) & (mobr['campaign_id']==200026024251998)][[\n",
    "    'campaign_id', 'active_campaign_seconds', 'recommended_budget',\n",
    "    'estimated_missed_clicks_range_min', 'estimated_missed_clicks_range_max',\n",
    "    'estimated_missed_sales_range_min', 'estimated_missed_sales_range_max',\n",
    "    'estimated_missed_impressions_range_min',\n",
    "    'estimated_missed_impressions_range_max', 'in_budget_seconds', 'dim_date'\n",
    "]].to_json(orient=\"records\")"
   ]
  },
  {
   "cell_type": "code",
   "execution_count": null,
   "id": "177af28e",
   "metadata": {},
   "outputs": [],
   "source": []
  },
  {
   "cell_type": "code",
   "execution_count": 83,
   "id": "b6936760",
   "metadata": {},
   "outputs": [],
   "source": [
    "m1 = pd.read_parquet(\"/Users/chongbei/Workspace/sb-carbyne-mobr/src/SBBudgetRecommendationKestrelEMR/tst-data/data/mobr-decoration-job-input.parquet\")"
   ]
  },
  {
   "cell_type": "code",
   "execution_count": 100,
   "id": "12a546f4",
   "metadata": {},
   "outputs": [
    {
     "data": {
      "text/plain": [
       "marketplace_id                                                                          1\n",
       "campaign_id                                                                      33759930\n",
       "metric_dates                            [2023-04-16, 2023-04-17, 2023-04-18, 2023-04-1...\n",
       "estimated_spend_distr_sorted_by_date                            [0.0, 0.0, 0.0, 0.0, 0.0]\n",
       "estimated_full_day_spend_mean                                                         0.0\n",
       "realized_spend_sorted_by_date                                   [0.0, 0.0, 0.0, 0.0, 0.0]\n",
       "mo_impressions                                                                          0\n",
       "mo_clicks                                                                               0\n",
       "mo_sales                                                                              0.0\n",
       "mo_spend                                                                              0.0\n",
       "sum_realized_spend                                                                    0.0\n",
       "sum_realized_ops_1d                                                                   NaN\n",
       "in_budget_seconds_mean                                                            86400.0\n",
       "active_campaign_seconds_mean                                                      86400.0\n",
       "roas                                                                                  NaN\n",
       "advertiser_id                                                                508367258302\n",
       "daily_budget_usd                                                                   2000.0\n",
       "max_effective_budget_sorted_by_date                      [2000.0, 2000.0, 2000.0, 2000.0]\n",
       "metric_date                                                                    2023-04-22\n",
       "spend_today                                                                           0.0\n",
       "latest_in_budget_seconds                                                          86400.0\n",
       "latest_active_campaign_seconds                                                    86400.0\n",
       "mo_impressions_lower_bound                                                              0\n",
       "mo_impressions_upper_bound                                                              0\n",
       "mo_clicks_lower_bound                                                                   0\n",
       "mo_clicks_upper_bound                                                                   0\n",
       "mo_sales_lower_bound                                                                  0.0\n",
       "mo_sales_upper_bound                                                                  0.0\n",
       "mo_spend_lower_bound                                                                  0.0\n",
       "mo_spend_upper_bound                                                                  0.0\n",
       "total_spend                                                                        2000.0\n",
       "version                                                                              v0.1\n",
       "percent_time_in_budget                                                              100.0\n",
       "latest_percent_time_in_budget                                                       100.0\n",
       "Name: 5, dtype: object"
      ]
     },
     "execution_count": 100,
     "metadata": {},
     "output_type": "execute_result"
    }
   ],
   "source": [
    "m1.loc[5]"
   ]
  },
  {
   "cell_type": "code",
   "execution_count": 85,
   "id": "e6836949",
   "metadata": {},
   "outputs": [],
   "source": [
    "m1.loc[3,['marketplace_id']]=[44571]"
   ]
  },
  {
   "cell_type": "code",
   "execution_count": 87,
   "id": "52f3b719",
   "metadata": {},
   "outputs": [],
   "source": [
    "m1.loc[4,['marketplace_id']]=[104444012]"
   ]
  },
  {
   "cell_type": "code",
   "execution_count": 89,
   "id": "f91703ca",
   "metadata": {},
   "outputs": [],
   "source": [
    "m1.loc[5,['campaign_id']]=[33759930]"
   ]
  },
  {
   "cell_type": "code",
   "execution_count": 94,
   "id": "f6b32f86",
   "metadata": {},
   "outputs": [],
   "source": [
    "m1.to_parquet(\"/Users/chongbei/Music/1.parquet\")"
   ]
  },
  {
   "cell_type": "code",
   "execution_count": 101,
   "id": "1b3119b0",
   "metadata": {},
   "outputs": [
    {
     "data": {
      "text/plain": [
       "(16445, 34)"
      ]
     },
     "execution_count": 101,
     "metadata": {},
     "output_type": "execute_result"
    }
   ],
   "source": [
    "m1.shape"
   ]
  },
  {
   "cell_type": "code",
   "execution_count": 103,
   "id": "e8547447",
   "metadata": {},
   "outputs": [],
   "source": [
    "m1.loc[6,['marketplace_id']]=[623225021]"
   ]
  },
  {
   "cell_type": "code",
   "execution_count": 116,
   "id": "652c3e35",
   "metadata": {},
   "outputs": [
    {
     "data": {
      "text/plain": [
       "marketplace_id                                                             1\n",
       "campaign_id                                                  200028239899298\n",
       "metric_dates                            [2023-04-18, 2023-04-19, 2023-04-22]\n",
       "estimated_spend_distr_sorted_by_date                         [0.0, 0.0, 0.0]\n",
       "estimated_full_day_spend_mean                                            0.0\n",
       "realized_spend_sorted_by_date                                [0.0, 0.0, 0.0]\n",
       "mo_impressions                                                             0\n",
       "mo_clicks                                                                  0\n",
       "mo_sales                                                                 0.0\n",
       "mo_spend                                                                 0.0\n",
       "sum_realized_spend                                                       0.0\n",
       "sum_realized_ops_1d                                                      NaN\n",
       "in_budget_seconds_mean                                               86400.0\n",
       "active_campaign_seconds_mean                                         86400.0\n",
       "roas                                                                     NaN\n",
       "advertiser_id                                                    18310151005\n",
       "daily_budget_usd                                                      2000.0\n",
       "max_effective_budget_sorted_by_date         [2000.0, 2000.0, 2000.0, 2000.0]\n",
       "metric_date                                                       2023-04-22\n",
       "spend_today                                                              0.0\n",
       "latest_in_budget_seconds                                             86400.0\n",
       "latest_active_campaign_seconds                                       86400.0\n",
       "mo_impressions_lower_bound                                                 0\n",
       "mo_impressions_upper_bound                                                 0\n",
       "mo_clicks_lower_bound                                                      0\n",
       "mo_clicks_upper_bound                                                      0\n",
       "mo_sales_lower_bound                                                     0.0\n",
       "mo_sales_upper_bound                                                     0.0\n",
       "mo_spend_lower_bound                                                     0.0\n",
       "mo_spend_upper_bound                                                     0.0\n",
       "total_spend                                                           2000.0\n",
       "version                                                                 v0.1\n",
       "percent_time_in_budget                                                 100.0\n",
       "latest_percent_time_in_budget                                          100.0\n",
       "Name: 17, dtype: object"
      ]
     },
     "execution_count": 116,
     "metadata": {},
     "output_type": "execute_result"
    }
   ],
   "source": [
    "m1.loc[17]"
   ]
  },
  {
   "cell_type": "code",
   "execution_count": 105,
   "id": "e8ffd2cf",
   "metadata": {},
   "outputs": [],
   "source": [
    "m1.to_parquet(\"/Users/chongbei/Music/2.parquet\")"
   ]
  },
  {
   "cell_type": "code",
   "execution_count": null,
   "id": "f893ee00",
   "metadata": {},
   "outputs": [],
   "source": []
  }
 ],
 "metadata": {
  "kernelspec": {
   "display_name": "Python 3 (ipykernel)",
   "language": "python",
   "name": "python3"
  },
  "language_info": {
   "codemirror_mode": {
    "name": "ipython",
    "version": 3
   },
   "file_extension": ".py",
   "mimetype": "text/x-python",
   "name": "python",
   "nbconvert_exporter": "python",
   "pygments_lexer": "ipython3",
   "version": "3.11.5"
  },
  "toc": {
   "base_numbering": 1,
   "nav_menu": {},
   "number_sections": true,
   "sideBar": true,
   "skip_h1_title": false,
   "title_cell": "Table of Contents",
   "title_sidebar": "Contents",
   "toc_cell": false,
   "toc_position": {},
   "toc_section_display": true,
   "toc_window_display": false
  },
  "varInspector": {
   "cols": {
    "lenName": 16,
    "lenType": 16,
    "lenVar": 40
   },
   "kernels_config": {
    "python": {
     "delete_cmd_postfix": "",
     "delete_cmd_prefix": "del ",
     "library": "var_list.py",
     "varRefreshCmd": "print(var_dic_list())"
    },
    "r": {
     "delete_cmd_postfix": ") ",
     "delete_cmd_prefix": "rm(",
     "library": "var_list.r",
     "varRefreshCmd": "cat(var_dic_list()) "
    }
   },
   "types_to_exclude": [
    "module",
    "function",
    "builtin_function_or_method",
    "instance",
    "_Feature"
   ],
   "window_display": false
  }
 },
 "nbformat": 4,
 "nbformat_minor": 5
}
