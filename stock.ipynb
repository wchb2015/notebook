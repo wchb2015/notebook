{
 "cells": [
  {
   "cell_type": "code",
   "execution_count": 2,
   "id": "c78fa7ca",
   "metadata": {},
   "outputs": [
    {
     "name": "stderr",
     "output_type": "stream",
     "text": [
      "/Users/chongbei/anaconda3/lib/python3.11/site-packages/pandas/core/arrays/masked.py:60: UserWarning: Pandas requires version '1.3.6' or newer of 'bottleneck' (version '1.3.5' currently installed).\n",
      "  from pandas.core import (\n"
     ]
    }
   ],
   "source": [
    "import numpy as np\n",
    "import pandas as pd\n",
    "import matplotlib.pyplot as plt\n",
    "from pandas import Series,DataFrame\n",
    "import seaborn as sns\n",
    "import pandas_datareader.data as web\n",
    "import yfinance as yf\n",
    "from datetime import datetime"
   ]
  },
  {
   "cell_type": "code",
   "execution_count": 4,
   "id": "0befcf25",
   "metadata": {},
   "outputs": [
    {
     "name": "stderr",
     "output_type": "stream",
     "text": [
      "/Users/chongbei/anaconda3/lib/python3.11/site-packages/yfinance/utils.py:775: FutureWarning: The 'unit' keyword in TimedeltaIndex construction is deprecated and will be removed in a future version. Use pd.to_timedelta instead.\n",
      "  df.index += _pd.TimedeltaIndex(dst_error_hours, 'h')\n"
     ]
    }
   ],
   "source": [
    "ixic = yf.Ticker(\"TQQQ\")\n",
    "\n",
    "# get all stock info\n",
    "\n",
    "# get historical market data\n",
    "ixic = ixic.history(period=\"3mo\")"
   ]
  },
  {
   "cell_type": "code",
   "execution_count": 12,
   "id": "7fe0f730",
   "metadata": {},
   "outputs": [
    {
     "data": {
      "text/html": [
       "<div>\n",
       "<style scoped>\n",
       "    .dataframe tbody tr th:only-of-type {\n",
       "        vertical-align: middle;\n",
       "    }\n",
       "\n",
       "    .dataframe tbody tr th {\n",
       "        vertical-align: top;\n",
       "    }\n",
       "\n",
       "    .dataframe thead th {\n",
       "        text-align: right;\n",
       "    }\n",
       "</style>\n",
       "<table border=\"1\" class=\"dataframe\">\n",
       "  <thead>\n",
       "    <tr style=\"text-align: right;\">\n",
       "      <th></th>\n",
       "      <th>Open</th>\n",
       "      <th>High</th>\n",
       "      <th>Low</th>\n",
       "      <th>Close</th>\n",
       "      <th>Capital Gains</th>\n",
       "      <th>size</th>\n",
       "    </tr>\n",
       "    <tr>\n",
       "      <th>Date</th>\n",
       "      <th></th>\n",
       "      <th></th>\n",
       "      <th></th>\n",
       "      <th></th>\n",
       "      <th></th>\n",
       "      <th></th>\n",
       "    </tr>\n",
       "  </thead>\n",
       "  <tbody>\n",
       "    <tr>\n",
       "      <th>2024-01-29 00:00:00-05:00</th>\n",
       "      <td>55.610001</td>\n",
       "      <td>57.200001</td>\n",
       "      <td>55.340000</td>\n",
       "      <td>57.070000</td>\n",
       "      <td>0.0</td>\n",
       "      <td>1.0</td>\n",
       "    </tr>\n",
       "    <tr>\n",
       "      <th>2024-01-30 00:00:00-05:00</th>\n",
       "      <td>56.689999</td>\n",
       "      <td>56.919998</td>\n",
       "      <td>55.599998</td>\n",
       "      <td>55.930000</td>\n",
       "      <td>0.0</td>\n",
       "      <td>1.0</td>\n",
       "    </tr>\n",
       "    <tr>\n",
       "      <th>2024-01-31 00:00:00-05:00</th>\n",
       "      <td>54.189999</td>\n",
       "      <td>54.980000</td>\n",
       "      <td>52.580002</td>\n",
       "      <td>52.639999</td>\n",
       "      <td>0.0</td>\n",
       "      <td>2.0</td>\n",
       "    </tr>\n",
       "    <tr>\n",
       "      <th>2024-02-01 00:00:00-05:00</th>\n",
       "      <td>53.290001</td>\n",
       "      <td>54.639999</td>\n",
       "      <td>52.910000</td>\n",
       "      <td>54.500000</td>\n",
       "      <td>0.0</td>\n",
       "      <td>1.0</td>\n",
       "    </tr>\n",
       "    <tr>\n",
       "      <th>2024-02-02 00:00:00-05:00</th>\n",
       "      <td>55.180000</td>\n",
       "      <td>57.680000</td>\n",
       "      <td>54.790001</td>\n",
       "      <td>57.240002</td>\n",
       "      <td>0.0</td>\n",
       "      <td>2.0</td>\n",
       "    </tr>\n",
       "  </tbody>\n",
       "</table>\n",
       "</div>"
      ],
      "text/plain": [
       "                                Open       High        Low      Close  \\\n",
       "Date                                                                    \n",
       "2024-01-29 00:00:00-05:00  55.610001  57.200001  55.340000  57.070000   \n",
       "2024-01-30 00:00:00-05:00  56.689999  56.919998  55.599998  55.930000   \n",
       "2024-01-31 00:00:00-05:00  54.189999  54.980000  52.580002  52.639999   \n",
       "2024-02-01 00:00:00-05:00  53.290001  54.639999  52.910000  54.500000   \n",
       "2024-02-02 00:00:00-05:00  55.180000  57.680000  54.790001  57.240002   \n",
       "\n",
       "                           Capital Gains  size  \n",
       "Date                                            \n",
       "2024-01-29 00:00:00-05:00            0.0   1.0  \n",
       "2024-01-30 00:00:00-05:00            0.0   1.0  \n",
       "2024-01-31 00:00:00-05:00            0.0   2.0  \n",
       "2024-02-01 00:00:00-05:00            0.0   1.0  \n",
       "2024-02-02 00:00:00-05:00            0.0   2.0  "
      ]
     },
     "execution_count": 12,
     "metadata": {},
     "output_type": "execute_result"
    }
   ],
   "source": [
    "ixic.tail()"
   ]
  },
  {
   "cell_type": "code",
   "execution_count": 6,
   "id": "87495fae",
   "metadata": {},
   "outputs": [],
   "source": [
    "ixic.drop(['Volume','Dividends','Stock Splits'], axis=1,inplace=True)"
   ]
  },
  {
   "cell_type": "code",
   "execution_count": 7,
   "id": "c3c53064",
   "metadata": {},
   "outputs": [],
   "source": [
    "ixic[\"size\"] = abs(round(ixic[\"Close\"] - ixic[\"Open\"], 0))"
   ]
  },
  {
   "cell_type": "code",
   "execution_count": 8,
   "id": "441e2469",
   "metadata": {},
   "outputs": [
    {
     "name": "stdout",
     "output_type": "stream",
     "text": [
      "<class 'pandas.core.frame.DataFrame'>\n",
      "DatetimeIndex: 62 entries, 2023-11-03 00:00:00-04:00 to 2024-02-02 00:00:00-05:00\n",
      "Data columns (total 6 columns):\n",
      " #   Column         Non-Null Count  Dtype  \n",
      "---  ------         --------------  -----  \n",
      " 0   Open           62 non-null     float64\n",
      " 1   High           62 non-null     float64\n",
      " 2   Low            62 non-null     float64\n",
      " 3   Close          62 non-null     float64\n",
      " 4   Capital Gains  62 non-null     float64\n",
      " 5   size           62 non-null     float64\n",
      "dtypes: float64(6)\n",
      "memory usage: 3.4 KB\n"
     ]
    }
   ],
   "source": [
    "ixic.info()"
   ]
  },
  {
   "cell_type": "code",
   "execution_count": 9,
   "id": "d59c9af7",
   "metadata": {},
   "outputs": [
    {
     "data": {
      "text/html": [
       "<div>\n",
       "<style scoped>\n",
       "    .dataframe tbody tr th:only-of-type {\n",
       "        vertical-align: middle;\n",
       "    }\n",
       "\n",
       "    .dataframe tbody tr th {\n",
       "        vertical-align: top;\n",
       "    }\n",
       "\n",
       "    .dataframe thead th {\n",
       "        text-align: right;\n",
       "    }\n",
       "</style>\n",
       "<table border=\"1\" class=\"dataframe\">\n",
       "  <thead>\n",
       "    <tr style=\"text-align: right;\">\n",
       "      <th></th>\n",
       "      <th>count</th>\n",
       "      <th>mean</th>\n",
       "      <th>std</th>\n",
       "      <th>min</th>\n",
       "      <th>25%</th>\n",
       "      <th>50%</th>\n",
       "      <th>75%</th>\n",
       "      <th>max</th>\n",
       "    </tr>\n",
       "  </thead>\n",
       "  <tbody>\n",
       "    <tr>\n",
       "      <th>Open</th>\n",
       "      <td>62.0</td>\n",
       "      <td>47.285270</td>\n",
       "      <td>5.318211</td>\n",
       "      <td>36.539594</td>\n",
       "      <td>43.436813</td>\n",
       "      <td>47.171456</td>\n",
       "      <td>50.629999</td>\n",
       "      <td>57.259998</td>\n",
       "    </tr>\n",
       "    <tr>\n",
       "      <th>High</th>\n",
       "      <td>62.0</td>\n",
       "      <td>48.113490</td>\n",
       "      <td>5.358640</td>\n",
       "      <td>37.813998</td>\n",
       "      <td>44.248250</td>\n",
       "      <td>48.877764</td>\n",
       "      <td>51.449999</td>\n",
       "      <td>57.900002</td>\n",
       "    </tr>\n",
       "    <tr>\n",
       "      <th>Low</th>\n",
       "      <td>62.0</td>\n",
       "      <td>46.623260</td>\n",
       "      <td>5.200185</td>\n",
       "      <td>36.469900</td>\n",
       "      <td>42.779697</td>\n",
       "      <td>46.662068</td>\n",
       "      <td>50.082500</td>\n",
       "      <td>56.119999</td>\n",
       "    </tr>\n",
       "    <tr>\n",
       "      <th>Close</th>\n",
       "      <td>62.0</td>\n",
       "      <td>47.529525</td>\n",
       "      <td>5.265062</td>\n",
       "      <td>37.415749</td>\n",
       "      <td>43.737990</td>\n",
       "      <td>48.288658</td>\n",
       "      <td>50.772751</td>\n",
       "      <td>57.240002</td>\n",
       "    </tr>\n",
       "    <tr>\n",
       "      <th>Capital Gains</th>\n",
       "      <td>62.0</td>\n",
       "      <td>0.000000</td>\n",
       "      <td>0.000000</td>\n",
       "      <td>0.000000</td>\n",
       "      <td>0.000000</td>\n",
       "      <td>0.000000</td>\n",
       "      <td>0.000000</td>\n",
       "      <td>0.000000</td>\n",
       "    </tr>\n",
       "    <tr>\n",
       "      <th>size</th>\n",
       "      <td>62.0</td>\n",
       "      <td>0.741935</td>\n",
       "      <td>0.675945</td>\n",
       "      <td>0.000000</td>\n",
       "      <td>0.000000</td>\n",
       "      <td>1.000000</td>\n",
       "      <td>1.000000</td>\n",
       "      <td>2.000000</td>\n",
       "    </tr>\n",
       "  </tbody>\n",
       "</table>\n",
       "</div>"
      ],
      "text/plain": [
       "               count       mean       std        min        25%        50%  \\\n",
       "Open            62.0  47.285270  5.318211  36.539594  43.436813  47.171456   \n",
       "High            62.0  48.113490  5.358640  37.813998  44.248250  48.877764   \n",
       "Low             62.0  46.623260  5.200185  36.469900  42.779697  46.662068   \n",
       "Close           62.0  47.529525  5.265062  37.415749  43.737990  48.288658   \n",
       "Capital Gains   62.0   0.000000  0.000000   0.000000   0.000000   0.000000   \n",
       "size            62.0   0.741935  0.675945   0.000000   0.000000   1.000000   \n",
       "\n",
       "                     75%        max  \n",
       "Open           50.629999  57.259998  \n",
       "High           51.449999  57.900002  \n",
       "Low            50.082500  56.119999  \n",
       "Close          50.772751  57.240002  \n",
       "Capital Gains   0.000000   0.000000  \n",
       "size            1.000000   2.000000  "
      ]
     },
     "execution_count": 9,
     "metadata": {},
     "output_type": "execute_result"
    }
   ],
   "source": [
    "ixic.describe().T"
   ]
  },
  {
   "cell_type": "code",
   "execution_count": 10,
   "id": "994823c1",
   "metadata": {},
   "outputs": [
    {
     "data": {
      "text/plain": [
       "[<matplotlib.lines.Line2D at 0x15541fa10>]"
      ]
     },
     "execution_count": 10,
     "metadata": {},
     "output_type": "execute_result"
    },
    {
     "data": {
      "image/png": "[encoded data removed]",
      "text/plain": [
       "<Figure size 640x480 with 1 Axes>"
      ]
     },
     "metadata": {},
     "output_type": "display_data"
    }
   ],
   "source": [
    "ixic['size'].value_counts()\n",
    "plt.plot(ixic['size'])"
   ]
  },
  {
   "cell_type": "code",
   "execution_count": null,
   "id": "e52c4a94",
   "metadata": {},
   "outputs": [],
   "source": []
  }
 ],
 "metadata": {
  "kernelspec": {
   "display_name": "Python 3 (ipykernel)",
   "language": "python",
   "name": "python3"
  },
  "language_info": {
   "codemirror_mode": {
    "name": "ipython",
    "version": 3
   },
   "file_extension": ".py",
   "mimetype": "text/x-python",
   "name": "python",
   "nbconvert_exporter": "python",
   "pygments_lexer": "ipython3",
   "version": "3.11.5"
  },
  "toc": {
   "base_numbering": 1,
   "nav_menu": {},
   "number_sections": true,
   "sideBar": true,
   "skip_h1_title": false,
   "title_cell": "Table of Contents",
   "title_sidebar": "Contents",
   "toc_cell": false,
   "toc_position": {},
   "toc_section_display": true,
   "toc_window_display": false
  },
  "varInspector": {
   "cols": {
    "lenName": 16,
    "lenType": 16,
    "lenVar": 40
   },
   "kernels_config": {
    "python": {
     "delete_cmd_postfix": "",
     "delete_cmd_prefix": "del ",
     "library": "var_list.py",
     "varRefreshCmd": "print(var_dic_list())"
    },
    "r": {
     "delete_cmd_postfix": ") ",
     "delete_cmd_prefix": "rm(",
     "library": "var_list.r",
     "varRefreshCmd": "cat(var_dic_list()) "
    }
   },
   "types_to_exclude": [
    "module",
    "function",
    "builtin_function_or_method",
    "instance",
    "_Feature"
   ],
   "window_display": false
  }
 },
 "nbformat": 4,
 "nbformat_minor": 5
}
