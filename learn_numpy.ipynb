{
 "cells": [
  {
   "cell_type": "code",
   "execution_count": 1,
   "id": "b43d6927",
   "metadata": {},
   "outputs": [],
   "source": [
    "import numpy as np"
   ]
  },
  {
   "cell_type": "code",
   "execution_count": 5,
   "id": "4a78fded",
   "metadata": {},
   "outputs": [
    {
     "name": "stdout",
     "output_type": "stream",
     "text": [
      "float64\n",
      "6\n",
      "(2, 3)\n"
     ]
    }
   ],
   "source": [
    "array1 = np.array([[1.0,2,3],[4.0,5,6]])\n",
    "print(array1.dtype)\n",
    "print(array1.size)\n",
    "print(array1.shape)"
   ]
  },
  {
   "cell_type": "code",
   "execution_count": 7,
   "id": "42753dbe",
   "metadata": {},
   "outputs": [
    {
     "data": {
      "text/plain": [
       "array([[3, 1, 3, 9, 8, 4, 1, 0, 5, 6, 2, 4, 3, 0, 8, 2, 0, 7, 0, 6],\n",
       "       [9, 2, 0, 5, 9, 4, 6, 4, 2, 9, 6, 1, 6, 5, 7, 9, 1, 4, 9, 6],\n",
       "       [9, 6, 4, 3, 4, 1, 1, 7, 3, 4, 1, 6, 3, 4, 6, 6, 7, 9, 7, 1],\n",
       "       [2, 6, 4, 5, 3, 5, 5, 0, 0, 2, 3, 7, 1, 1, 0, 1, 2, 6, 5, 4],\n",
       "       [6, 9, 2, 6, 1, 3, 7, 0, 7, 5, 2, 6, 7, 1, 8, 7, 4, 6, 8, 0],\n",
       "       [3, 9, 0, 6, 9, 2, 3, 3, 9, 3, 5, 7, 0, 3, 7, 8, 5, 2, 5, 9],\n",
       "       [5, 0, 8, 7, 7, 8, 5, 0, 5, 2, 2, 6, 7, 2, 5, 1, 8, 7, 0, 1],\n",
       "       [3, 1, 6, 8, 7, 3, 4, 2, 0, 7, 9, 0, 0, 9, 2, 1, 1, 5, 9, 5]])"
      ]
     },
     "execution_count": 7,
     "metadata": {},
     "output_type": "execute_result"
    }
   ],
   "source": [
    "np.random.randint(10,size=(8,20))"
   ]
  },
  {
   "cell_type": "code",
   "execution_count": 8,
   "id": "6f1185dc",
   "metadata": {},
   "outputs": [
    {
     "data": {
      "text/plain": [
       "array([[2, 6, 0, 6, 9],\n",
       "       [7, 8, 5, 5, 5],\n",
       "       [4, 4, 3, 9, 2],\n",
       "       [1, 1, 3, 5, 6]])"
      ]
     },
     "execution_count": 8,
     "metadata": {},
     "output_type": "execute_result"
    }
   ],
   "source": [
    "np.random.randint(10,size=20).reshape(4,5)"
   ]
  },
  {
   "cell_type": "code",
   "execution_count": 11,
   "id": "1942c235",
   "metadata": {},
   "outputs": [
    {
     "data": {
      "text/plain": [
       "matrix([[1, 2, 3],\n",
       "        [4, 5, 6]])"
      ]
     },
     "execution_count": 11,
     "metadata": {},
     "output_type": "execute_result"
    }
   ],
   "source": [
    "# 创建矩阵\n",
    "np.mat([[1,2,3],[4,5,6]])"
   ]
  },
  {
   "cell_type": "code",
   "execution_count": 12,
   "id": "724afc47",
   "metadata": {},
   "outputs": [
    {
     "data": {
      "text/plain": [
       "array([1., 2., 3., 4., 5., 6.])"
      ]
     },
     "execution_count": 12,
     "metadata": {},
     "output_type": "execute_result"
    }
   ],
   "source": [
    "np.unique(array1)"
   ]
  },
  {
   "cell_type": "code",
   "execution_count": 14,
   "id": "d795533a",
   "metadata": {},
   "outputs": [
    {
     "data": {
      "text/plain": [
       "array([5., 7., 9.])"
      ]
     },
     "execution_count": 14,
     "metadata": {},
     "output_type": "execute_result"
    }
   ],
   "source": [
    "sum(array1)"
   ]
  },
  {
   "cell_type": "code",
   "execution_count": 16,
   "id": "34d19282",
   "metadata": {},
   "outputs": [],
   "source": [
    "# 使用pickle序列化numpy array\n",
    "import pickle\n",
    "\n",
    "x = np.arange(10)"
   ]
  },
  {
   "cell_type": "code",
   "execution_count": 18,
   "id": "4f0f8b46",
   "metadata": {},
   "outputs": [
    {
     "name": "stdout",
     "output_type": "stream",
     "text": [
      "LICENSE                             tf_basic_api.ipynb\r\n",
      "README.md                           tf_keras_regression-hp-search.ipynb\r\n",
      "learn_numpy.ipynb                   x.pkl\r\n"
     ]
    }
   ],
   "source": [
    "f = open('x.pkl','wb')\n",
    "pickle.dump(x,f)\n",
    "!ls"
   ]
  },
  {
   "cell_type": "code",
   "execution_count": 19,
   "id": "e6cf892c",
   "metadata": {},
   "outputs": [
    {
     "data": {
      "text/plain": [
       "array([0, 1, 2, 3, 4, 5, 6, 7, 8, 9])"
      ]
     },
     "execution_count": 19,
     "metadata": {},
     "output_type": "execute_result"
    }
   ],
   "source": [
    "f = open('x.pkl','rb')\n",
    "pickle.load(f)"
   ]
  },
  {
   "cell_type": "code",
   "execution_count": null,
   "id": "85f3078a",
   "metadata": {},
   "outputs": [],
   "source": []
  }
 ],
 "metadata": {
  "kernelspec": {
   "display_name": "Python 3 (ipykernel)",
   "language": "python",
   "name": "python3"
  },
  "language_info": {
   "codemirror_mode": {
    "name": "ipython",
    "version": 3
   },
   "file_extension": ".py",
   "mimetype": "text/x-python",
   "name": "python",
   "nbconvert_exporter": "python",
   "pygments_lexer": "ipython3",
   "version": "3.11.5"
  }
 },
 "nbformat": 4,
 "nbformat_minor": 5
}
